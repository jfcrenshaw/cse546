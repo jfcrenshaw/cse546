{
 "cells": [
  {
   "cell_type": "code",
   "execution_count": 124,
   "metadata": {},
   "outputs": [],
   "source": [
    "import numpy as np\n",
    "import matplotlib.pyplot as plt"
   ]
  },
  {
   "cell_type": "markdown",
   "metadata": {},
   "source": [
    "## A4"
   ]
  },
  {
   "cell_type": "code",
   "execution_count": null,
   "metadata": {},
   "outputs": [],
   "source": [
    "# set params\n",
    "n = 500\n",
    "d = 1000\n",
    "k = 100\n",
    "sig = 1\n",
    "\n",
    "# generate data\n",
    "np.random.seed(0)\n",
    "X = np.random.normal(0, 1, (n,d))\n",
    "w = np.arange(1,d+1)/k; w[k:] = 0\n",
    "y = np.random.normal(X @ w, sig)\n",
    "\n",
    "# initialize model\n",
    "wH = np.zeros(len(w)) # w hat\n",
    "bH = 0 # b hat\n",
    "\n",
    "# set initial values\n",
    "lam = max(np.abs(2 * X.T @ (y - y.mean()))) # initial lambda\n",
    "sparsity = 0 # set initial sparsity\n",
    "\n",
    "# values to save\n",
    "lambdas = []\n",
    "sparsities = []\n",
    "fdr = []\n",
    "tpr = []\n",
    "\n",
    "# pre-calculate values\n",
    "a = 2*(X**2).sum(axis=0)\n",
    "\n",
    "# regularization path\n",
    "while sparsity <= 0.8*k:\n",
    "    \n",
    "    dwH = np.ones(len(w)) # set initial dwH\n",
    "    \n",
    "    # coordinate descent\n",
    "    while max(np.abs(dwH)) > 1e-2:\n",
    "\n",
    "        # update bH\n",
    "        bH = np.mean(y - X @ wH)\n",
    "\n",
    "        # calculate c\n",
    "        c = 2 * X.T @ (y - (bH + X @ wH)) + a * wH\n",
    "\n",
    "        # update wH\n",
    "        c[np.where((c >= -lam) & (c <= lam))] = 0\n",
    "        dwH = (c - np.sign(c)*lam)/a - wH\n",
    "        wH += dwH\n",
    "        \n",
    "    # save values\n",
    "    lambdas.append(lam)\n",
    "    sparsity = len(wH[np.abs(wH) > 0])\n",
    "    sparsities.append(sparsity)\n",
    "    fdr.append( len(wH[(w == 0) & (wH != 0)]) / np.clip(len(wH[wH!= 0]), 1, None) )\n",
    "    tpr.append( len(wH[(w != 0) & (wH != 0)]) / k )\n",
    "    \n",
    "    print(f'{sparsity:<4}{lam:>7.2f}')\n",
    "    \n",
    "    # new lambda\n",
    "    lam /= 1.5"
   ]
  },
  {
   "cell_type": "code",
   "execution_count": 120,
   "metadata": {},
   "outputs": [
    {
     "name": "stdout",
     "output_type": "stream",
     "text": [
      "1   1255.40\n",
      "16   836.93\n",
      "43   557.96\n",
      "70   371.97\n",
      "93   247.98\n",
      "125  165.32\n",
      "159  110.21\n",
      "198   73.48\n",
      "248   48.98\n",
      "317   32.66\n",
      "360   21.77\n",
      "401   14.51\n",
      "424    9.68\n",
      "458    6.45\n",
      "473    4.30\n",
      "486    2.87\n",
      "496    1.91\n",
      "501    1.27\n",
      "505    0.85\n",
      "514    0.57\n",
      "518    0.38\n",
      "538    0.25\n",
      "551    0.17\n",
      "557    0.11\n",
      "574    0.07\n",
      "591    0.05\n",
      "624    0.03\n",
      "648    0.02\n",
      "673    0.01\n",
      "705    0.01\n",
      "741    0.01\n",
      "777    0.00\n",
      "812    0.00\n",
      "850    0.00\n",
      "892    0.00\n",
      "916    0.00\n",
      "938    0.00\n",
      "950    0.00\n",
      "957    0.00\n"
     ]
    }
   ],
   "source": [
    "# set params\n",
    "n = 500\n",
    "d = 1000\n",
    "k = 100\n",
    "sig = 1\n",
    "\n",
    "# generate data\n",
    "np.random.seed(0)\n",
    "X = np.random.normal(0, 1, (n,d))\n",
    "w = np.arange(1,d+1)/k; w[k:] = 0\n",
    "y = np.random.normal(X @ w, sig)\n",
    "\n",
    "# initialize model\n",
    "wH = np.zeros(len(w)) # w hat\n",
    "bH = 0 # b hat\n",
    "\n",
    "# set initial values\n",
    "lam = max(np.abs(2 * X.T @ (y - y.mean()))) # initial lambda\n",
    "sparsity = 0 # set initial sparsity\n",
    "\n",
    "# values to save\n",
    "lambdas = []\n",
    "sparsities = []\n",
    "fdr = []\n",
    "tpr = []\n",
    "\n",
    "# pre-calculate values\n",
    "a = 2*(X**2).sum(axis=0)\n",
    "\n",
    "# regularization path\n",
    "while sparsity <= 0.95*d:\n",
    "    \n",
    "    dwH = np.ones(len(w)) # set initial dwH\n",
    "    \n",
    "    # coordinate descent\n",
    "    while max(dwH) > 1e-5:\n",
    "        \n",
    "        # save old wH\n",
    "        wH_old = wH.copy()\n",
    "\n",
    "        # update bH\n",
    "        bH = np.mean(y - X @ wH)\n",
    "        \n",
    "        for i in range(d):\n",
    "            \n",
    "            wH_ = wH.copy(); wH_[i] = 0\n",
    "            c = 2 * (X[:,i] * (y - (bH + X @ wH_))).sum()\n",
    "            \n",
    "            c = c if np.abs(c) > lam else 0\n",
    "            wH[i] = (c - np.sign(c)*lam)/a[i]\n",
    "            \n",
    "        dwH = np.abs(wH - wH_old)\n",
    "        \n",
    "    # save values\n",
    "    lambdas.append(lam)\n",
    "    sparsity = len(wH[np.abs(wH) > 0])\n",
    "    sparsities.append(sparsity)\n",
    "    fdr.append( len(wH[(w == 0) & (wH != 0)]) / np.clip(len(wH[wH!= 0]), 1, None) )\n",
    "    tpr.append( len(wH[(w != 0) & (wH != 0)]) / k )\n",
    "    \n",
    "    print(f'{sparsity:<4}{lam:>7.2f}')\n",
    "    \n",
    "    # new lambda\n",
    "    lam /= 1.5"
   ]
  },
  {
   "cell_type": "code",
   "execution_count": 123,
   "metadata": {},
   "outputs": [
    {
     "data": {
      "image/png": "[encoded data removed]",
      "text/plain": [
       "<Figure size 432x288 with 1 Axes>"
      ]
     },
     "metadata": {
      "needs_background": "light"
     },
     "output_type": "display_data"
    }
   ],
   "source": [
    "plt.plot(lambdas, sparsities)\n",
    "plt.xscale('log')\n",
    "plt.xlabel('$\\lambda$')\n",
    "plt.ylabel('Non-zero elements of $\\hat{w}$')\n",
    "plt.savefig('A4a.pdf')"
   ]
  },
  {
   "cell_type": "code",
   "execution_count": 124,
   "metadata": {},
   "outputs": [
    {
     "data": {
      "image/png": "[encoded data removed]",
      "text/plain": [
       "<Figure size 432x288 with 1 Axes>"
      ]
     },
     "metadata": {
      "needs_background": "light"
     },
     "output_type": "display_data"
    }
   ],
   "source": [
    "fdr_ = fdr[:3] + fdr[6:]\n",
    "tpr_ = tpr[:3] + tpr[6:]\n",
    "plt.plot(fdr_, tpr_)\n",
    "plt.xlabel('FDR')\n",
    "plt.ylabel(\"TPR\")\n",
    "plt.savefig('A4b.pdf')"
   ]
  },
  {
   "cell_type": "code",
   "execution_count": 126,
   "metadata": {},
   "outputs": [],
   "source": [
    "import numpy as np\n",
    "import matplotlib.pyplot as plt"
   ]
  },
  {
   "cell_type": "code",
   "execution_count": 127,
   "metadata": {},
   "outputs": [
    {
     "data": {
      "text/plain": [
       "<matplotlib.contour.QuadContourSet at 0x7f4984f2c390>"
      ]
     },
     "execution_count": 127,
     "metadata": {},
     "output_type": "execute_result"
    },
    {
     "data": {
      "image/png": "[encoded data removed]",
      "text/plain": [
       "<Figure size 252x252 with 1 Axes>"
      ]
     },
     "metadata": {
      "needs_background": "light"
     },
     "output_type": "display_data"
    }
   ],
   "source": [
    "fig = plt.figure(figsize=(3.5,3.5))\n",
    "x = np.linspace(-4,4,1000)\n",
    "xv, yv = np.meshgrid(x, x)\n",
    "zv = (np.sqrt(np.abs(xv)) + np.sqrt(np.abs(yv)))**2\n",
    "zv[zv <= 4] = 1\n",
    "zv[zv > 4] = 0\n",
    "\n",
    "plt.contourf(x,x,zv,cmap='binary',vmin=0,vmax=1)"
   ]
  },
  {
   "cell_type": "code",
   "execution_count": 128,
   "metadata": {},
   "outputs": [
    {
     "data": {
      "image/png": "[encoded data removed]",
      "text/plain": [
       "<Figure size 252x252 with 1 Axes>"
      ]
     },
     "metadata": {
      "needs_background": "light"
     },
     "output_type": "display_data"
    }
   ],
   "source": [
    "fig, ax = plt.subplots(figsize=(3.5,3.5), \n",
    "                       constrained_layout=True)\n",
    "x = np.linspace(-4,4,1000)\n",
    "y = (2 - np.sqrt(np.abs(x)))**2\n",
    "ax.fill_between(x, -y, y, color='k')\n",
    "ax.set(xlabel='$x_1$', ylabel='$x_2$',\n",
    "       yticks=[-4,-2,0,2,4])\n",
    "fig.savefig('B2c.pdf')"
   ]
  },
  {
   "cell_type": "code",
   "execution_count": 224,
   "metadata": {},
   "outputs": [
    {
     "data": {
      "image/png": "[encoded data removed]",
      "text/plain": [
       "<Figure size 252x252 with 1 Axes>"
      ]
     },
     "metadata": {
      "needs_background": "light"
     },
     "output_type": "display_data"
    }
   ],
   "source": [
    "fig, ax = plt.subplots(figsize=(3.5,3.5), \n",
    "                       constrained_layout=True)\n",
    "x = np.linspace(-4,4,100000)\n",
    "p = 2\n",
    "y = (4**(1/p) - np.abs(x)**(1/p))**p\n",
    "ax.fill_between(x, -y, y, color='k')\n",
    "ax.set(xlabel='$x_1$', ylabel='$x_2$',\n",
    "       yticks=[-4,-2,0,2,4]);"
   ]
  },
  {
   "cell_type": "code",
   "execution_count": 234,
   "metadata": {},
   "outputs": [
    {
     "data": {
      "image/png": "[encoded data removed]",
      "text/plain": [
       "<Figure size 252x252 with 1 Axes>"
      ]
     },
     "metadata": {
      "needs_background": "light"
     },
     "output_type": "display_data"
    }
   ],
   "source": [
    "fig, ax = plt.subplots(figsize=(3.5,3.5), \n",
    "                       constrained_layout=True)\n",
    "x = np.linspace(-4,4,100000)\n",
    "p = 1/2\n",
    "y = (4**(p) - np.abs(x)**(p))**(1/p)\n",
    "ax.fill_between(x, -y, y, color='k')\n",
    "ax.set(xlabel='$x_1$', ylabel='$x_2$',\n",
    "       yticks=[-4,-2,0,2,4]);"
   ]
  },
  {
   "cell_type": "code",
   "execution_count": 25,
   "metadata": {},
   "outputs": [],
   "source": [
    "import pandas as pd\n",
    "df_train = pd.read_table(\"crime-train.txt\")\n",
    "df_test = pd.read_table(\"crime-test.txt\")"
   ]
  },
  {
   "cell_type": "code",
   "execution_count": 26,
   "metadata": {},
   "outputs": [
    {
     "data": {
      "text/html": [
       "<div>\n",
       "<style scoped>\n",
       "    .dataframe tbody tr th:only-of-type {\n",
       "        vertical-align: middle;\n",
       "    }\n",
       "\n",
       "    .dataframe tbody tr th {\n",
       "        vertical-align: top;\n",
       "    }\n",
       "\n",
       "    .dataframe thead th {\n",
       "        text-align: right;\n",
       "    }\n",
       "</style>\n",
       "<table border=\"1\" class=\"dataframe\">\n",
       "  <thead>\n",
       "    <tr style=\"text-align: right;\">\n",
       "      <th></th>\n",
       "      <th>ViolentCrimesPerPop</th>\n",
       "      <th>population</th>\n",
       "      <th>householdsize</th>\n",
       "      <th>agePct12t21</th>\n",
       "      <th>agePct12t29</th>\n",
       "      <th>agePct16t24</th>\n",
       "      <th>agePct65up</th>\n",
       "      <th>numbUrban</th>\n",
       "      <th>pctUrban</th>\n",
       "      <th>medIncome</th>\n",
       "      <th>...</th>\n",
       "      <th>NumStreet</th>\n",
       "      <th>PctForeignBorn</th>\n",
       "      <th>PctBornSameState</th>\n",
       "      <th>PctSameHouse85</th>\n",
       "      <th>PctSameCity85</th>\n",
       "      <th>PctSameState85</th>\n",
       "      <th>LandArea</th>\n",
       "      <th>PopDens</th>\n",
       "      <th>PctUsePubTrans</th>\n",
       "      <th>LemasPctOfficDrugUn</th>\n",
       "    </tr>\n",
       "  </thead>\n",
       "  <tbody>\n",
       "    <tr>\n",
       "      <th>0</th>\n",
       "      <td>0.67</td>\n",
       "      <td>-0.45</td>\n",
       "      <td>-1.85</td>\n",
       "      <td>-1.06</td>\n",
       "      <td>0.67</td>\n",
       "      <td>0.08</td>\n",
       "      <td>-0.85</td>\n",
       "      <td>-0.34</td>\n",
       "      <td>0.68</td>\n",
       "      <td>-0.24</td>\n",
       "      <td>...</td>\n",
       "      <td>-0.23</td>\n",
       "      <td>-0.02</td>\n",
       "      <td>-0.53</td>\n",
       "      <td>-1.08</td>\n",
       "      <td>-0.13</td>\n",
       "      <td>-0.66</td>\n",
       "      <td>-0.41</td>\n",
       "      <td>-0.56</td>\n",
       "      <td>1.26</td>\n",
       "      <td>-0.39</td>\n",
       "    </tr>\n",
       "    <tr>\n",
       "      <th>1</th>\n",
       "      <td>0.43</td>\n",
       "      <td>-0.45</td>\n",
       "      <td>-0.27</td>\n",
       "      <td>-0.22</td>\n",
       "      <td>-0.17</td>\n",
       "      <td>-0.34</td>\n",
       "      <td>-0.58</td>\n",
       "      <td>-0.50</td>\n",
       "      <td>-1.57</td>\n",
       "      <td>-0.29</td>\n",
       "      <td>...</td>\n",
       "      <td>-0.23</td>\n",
       "      <td>-0.33</td>\n",
       "      <td>-0.58</td>\n",
       "      <td>0.03</td>\n",
       "      <td>0.22</td>\n",
       "      <td>-0.46</td>\n",
       "      <td>-0.50</td>\n",
       "      <td>-0.11</td>\n",
       "      <td>-0.62</td>\n",
       "      <td>-0.39</td>\n",
       "    </tr>\n",
       "    <tr>\n",
       "      <th>2</th>\n",
       "      <td>0.12</td>\n",
       "      <td>-0.14</td>\n",
       "      <td>1.87</td>\n",
       "      <td>0.55</td>\n",
       "      <td>0.04</td>\n",
       "      <td>0.02</td>\n",
       "      <td>-1.19</td>\n",
       "      <td>-0.03</td>\n",
       "      <td>0.68</td>\n",
       "      <td>1.05</td>\n",
       "      <td>...</td>\n",
       "      <td>-0.23</td>\n",
       "      <td>-0.11</td>\n",
       "      <td>-1.51</td>\n",
       "      <td>1.07</td>\n",
       "      <td>0.07</td>\n",
       "      <td>-0.01</td>\n",
       "      <td>-0.41</td>\n",
       "      <td>0.77</td>\n",
       "      <td>0.52</td>\n",
       "      <td>-0.39</td>\n",
       "    </tr>\n",
       "    <tr>\n",
       "      <th>3</th>\n",
       "      <td>0.03</td>\n",
       "      <td>-0.38</td>\n",
       "      <td>0.53</td>\n",
       "      <td>-0.28</td>\n",
       "      <td>-0.79</td>\n",
       "      <td>-0.64</td>\n",
       "      <td>-0.35</td>\n",
       "      <td>-0.34</td>\n",
       "      <td>0.46</td>\n",
       "      <td>0.66</td>\n",
       "      <td>...</td>\n",
       "      <td>-0.23</td>\n",
       "      <td>-0.46</td>\n",
       "      <td>0.54</td>\n",
       "      <td>0.58</td>\n",
       "      <td>-0.08</td>\n",
       "      <td>-0.61</td>\n",
       "      <td>-0.23</td>\n",
       "      <td>-0.70</td>\n",
       "      <td>-0.62</td>\n",
       "      <td>-0.39</td>\n",
       "    </tr>\n",
       "    <tr>\n",
       "      <th>4</th>\n",
       "      <td>0.14</td>\n",
       "      <td>-0.30</td>\n",
       "      <td>-1.12</td>\n",
       "      <td>-0.74</td>\n",
       "      <td>-0.10</td>\n",
       "      <td>-0.40</td>\n",
       "      <td>-0.30</td>\n",
       "      <td>-0.19</td>\n",
       "      <td>0.68</td>\n",
       "      <td>0.76</td>\n",
       "      <td>...</td>\n",
       "      <td>-0.23</td>\n",
       "      <td>2.10</td>\n",
       "      <td>-0.92</td>\n",
       "      <td>-0.25</td>\n",
       "      <td>0.52</td>\n",
       "      <td>-0.06</td>\n",
       "      <td>-0.50</td>\n",
       "      <td>1.71</td>\n",
       "      <td>-0.27</td>\n",
       "      <td>-0.39</td>\n",
       "    </tr>\n",
       "  </tbody>\n",
       "</table>\n",
       "<p>5 rows × 96 columns</p>\n",
       "</div>"
      ],
      "text/plain": [
       "   ViolentCrimesPerPop  population  householdsize  agePct12t21  agePct12t29  \\\n",
       "0                 0.67       -0.45          -1.85        -1.06         0.67   \n",
       "1                 0.43       -0.45          -0.27        -0.22        -0.17   \n",
       "2                 0.12       -0.14           1.87         0.55         0.04   \n",
       "3                 0.03       -0.38           0.53        -0.28        -0.79   \n",
       "4                 0.14       -0.30          -1.12        -0.74        -0.10   \n",
       "\n",
       "   agePct16t24  agePct65up  numbUrban  pctUrban  medIncome  ...  NumStreet  \\\n",
       "0         0.08       -0.85      -0.34      0.68      -0.24  ...      -0.23   \n",
       "1        -0.34       -0.58      -0.50     -1.57      -0.29  ...      -0.23   \n",
       "2         0.02       -1.19      -0.03      0.68       1.05  ...      -0.23   \n",
       "3        -0.64       -0.35      -0.34      0.46       0.66  ...      -0.23   \n",
       "4        -0.40       -0.30      -0.19      0.68       0.76  ...      -0.23   \n",
       "\n",
       "   PctForeignBorn  PctBornSameState  PctSameHouse85  PctSameCity85  \\\n",
       "0           -0.02             -0.53           -1.08          -0.13   \n",
       "1           -0.33             -0.58            0.03           0.22   \n",
       "2           -0.11             -1.51            1.07           0.07   \n",
       "3           -0.46              0.54            0.58          -0.08   \n",
       "4            2.10             -0.92           -0.25           0.52   \n",
       "\n",
       "   PctSameState85  LandArea  PopDens  PctUsePubTrans  LemasPctOfficDrugUn  \n",
       "0           -0.66     -0.41    -0.56            1.26                -0.39  \n",
       "1           -0.46     -0.50    -0.11           -0.62                -0.39  \n",
       "2           -0.01     -0.41     0.77            0.52                -0.39  \n",
       "3           -0.61     -0.23    -0.70           -0.62                -0.39  \n",
       "4           -0.06     -0.50     1.71           -0.27                -0.39  \n",
       "\n",
       "[5 rows x 96 columns]"
      ]
     },
     "execution_count": 26,
     "metadata": {},
     "output_type": "execute_result"
    }
   ],
   "source": [
    "df_train.head()"
   ]
  },
  {
   "cell_type": "code",
   "execution_count": 28,
   "metadata": {},
   "outputs": [
    {
     "data": {
      "text/plain": [
       "(1595, 96)"
      ]
     },
     "execution_count": 28,
     "metadata": {},
     "output_type": "execute_result"
    }
   ],
   "source": [
    "df_train.shape"
   ]
  },
  {
   "cell_type": "code",
   "execution_count": 165,
   "metadata": {},
   "outputs": [
    {
     "name": "stdout",
     "output_type": "stream",
     "text": [
      "0    541.48\n",
      "2    270.74\n",
      "4    135.37\n",
      "7     67.69\n",
      "12    33.84\n",
      "19    16.92\n",
      "27     8.46\n",
      "45     4.23\n",
      "63     2.12\n",
      "74     1.06\n",
      "81     0.53\n",
      "89     0.26\n",
      "90     0.13\n",
      "93     0.07\n",
      "95     0.03\n",
      "95     0.02\n"
     ]
    }
   ],
   "source": [
    "X = df_train.drop('ViolentCrimesPerPop', axis = 1).values\n",
    "y = df_train['ViolentCrimesPerPop'].values\n",
    "\n",
    "Xtest = df_test.drop('ViolentCrimesPerPop', axis = 1).values\n",
    "ytest = df_test['ViolentCrimesPerPop'].values\n",
    "\n",
    "d = X.shape[1]\n",
    "\n",
    "# initialize model\n",
    "wH = np.zeros(d) # w hat\n",
    "bH = 0 # b hat\n",
    "\n",
    "# set initial values\n",
    "lam = max(np.abs(2 * X.T @ (y - y.mean()))) # initial lambda\n",
    "sparsity = 0 # set initial sparsity\n",
    "\n",
    "# values to save\n",
    "lambdas = []\n",
    "sparsities = []\n",
    "variables = ['agePct12t29',\n",
    "             'pctWSocSec',\n",
    "             'pctUrban',\n",
    "             'agePct65up',\n",
    "             'householdsize']\n",
    "regpaths = {var:[] for var in variables}\n",
    "trainerr = []\n",
    "testerr = []\n",
    "\n",
    "# pre-calculate values\n",
    "a = 2*(X**2).sum(axis=0)\n",
    "\n",
    "# regularization path\n",
    "while lam >= 0.01:\n",
    "    \n",
    "    dwH = np.ones(len(w)) # set initial dwH\n",
    "    \n",
    "    # coordinate descent\n",
    "    while max(dwH) > 1e-5:\n",
    "        \n",
    "        # save old wH\n",
    "        wH_old = wH.copy()\n",
    "\n",
    "        # update bH\n",
    "        bH = np.mean(y - X @ wH)\n",
    "        \n",
    "        for i in range(d):\n",
    "            \n",
    "            wH_ = wH.copy(); wH_[i] = 0\n",
    "            c = 2 * (X[:,i] * (y - (bH + X @ wH_))).sum()\n",
    "            \n",
    "            c = c if np.abs(c) > lam else 0\n",
    "            wH[i] = (c - np.sign(c)*lam)/a[i]\n",
    "            \n",
    "        dwH = np.abs(wH - wH_old)\n",
    "        \n",
    "    # save values\n",
    "    lambdas.append(lam)\n",
    "    sparsity = len(wH[np.abs(wH) > 0])\n",
    "    sparsities.append(sparsity)\n",
    "    for var in variables:\n",
    "        idx = df_train.columns.get_loc(var)\n",
    "        regpaths[var].append(wH[idx])\n",
    "    trainerr.append(((y - bH - X @ wH)**2).mean())\n",
    "    testerr.append(((ytest - bH - Xtest @ wH)**2).mean())\n",
    "    \n",
    "    print(f'{sparsity:<4}{lam:>7.2f}')\n",
    "    \n",
    "    # new lambda\n",
    "    lam /= 2"
   ]
  },
  {
   "cell_type": "code",
   "execution_count": 167,
   "metadata": {},
   "outputs": [
    {
     "data": {
      "image/png": "[encoded data removed]",
      "text/plain": [
       "<Figure size 432x288 with 1 Axes>"
      ]
     },
     "metadata": {
      "needs_background": "light"
     },
     "output_type": "display_data"
    }
   ],
   "source": [
    "plt.plot(lambdas, sparsities)\n",
    "plt.xscale('log')\n",
    "plt.xlabel(\"$\\lambda$\")\n",
    "plt.ylabel(\"Number of non-zero features\")\n",
    "plt.savefig('A5a.pdf')"
   ]
  },
  {
   "cell_type": "code",
   "execution_count": 169,
   "metadata": {},
   "outputs": [
    {
     "data": {
      "image/png": "[encoded data removed]",
      "text/plain": [
       "<Figure size 432x288 with 1 Axes>"
      ]
     },
     "metadata": {
      "needs_background": "light"
     },
     "output_type": "display_data"
    }
   ],
   "source": [
    "for var in variables:\n",
    "    plt.plot(lambdas, regpaths[var], label=var)\n",
    "    \n",
    "plt.legend()\n",
    "plt.xscale('log')\n",
    "plt.xlabel('$\\lambda$')\n",
    "plt.ylabel('Weight')\n",
    "plt.savefig('A5b.pdf')"
   ]
  },
  {
   "cell_type": "code",
   "execution_count": 170,
   "metadata": {},
   "outputs": [
    {
     "data": {
      "image/png": "[encoded data removed]",
      "text/plain": [
       "<Figure size 432x288 with 1 Axes>"
      ]
     },
     "metadata": {
      "needs_background": "light"
     },
     "output_type": "display_data"
    }
   ],
   "source": [
    "plt.plot(lambdas, trainerr, label=\"Train Err\")\n",
    "plt.plot(lambdas, testerr, label=\"Test Err\")\n",
    "plt.legend()\n",
    "plt.xscale('log')\n",
    "plt.xlabel(\"$\\lambda$\")\n",
    "plt.ylabel(\"Error\")\n",
    "plt.savefig(\"A5c.pdf\")"
   ]
  },
  {
   "cell_type": "code",
   "execution_count": 163,
   "metadata": {},
   "outputs": [
    {
     "name": "stdout",
     "output_type": "stream",
     "text": [
      "most positive -- NumIlleg\n",
      "most negative -- PctFam2Par\n"
     ]
    }
   ],
   "source": [
    "X = df_train.drop('ViolentCrimesPerPop', axis = 1).values\n",
    "y = df_train['ViolentCrimesPerPop'].values\n",
    "\n",
    "Xtest = df_test.drop('ViolentCrimesPerPop', axis = 1).values\n",
    "ytest = df_test['ViolentCrimesPerPop'].values\n",
    "\n",
    "d = X.shape[1]\n",
    "\n",
    "# initialize model\n",
    "wH = np.zeros(d) # w hat\n",
    "bH = 0 # b hat\n",
    "\n",
    "# set initial values\n",
    "lam = 30 # lambda\n",
    "sparsity = 0 # set initial sparsity\n",
    "\n",
    "# pre-calculate values\n",
    "a = 2*(X**2).sum(axis=0)\n",
    "\n",
    "    \n",
    "dwH = np.ones(len(w)) # set initial dwH\n",
    "\n",
    "# coordinate descent\n",
    "while max(dwH) > 1e-5:\n",
    "\n",
    "    # save old wH\n",
    "    wH_old = wH.copy()\n",
    "\n",
    "    # update bH\n",
    "    bH = np.mean(y - X @ wH)\n",
    "\n",
    "    for i in range(d):\n",
    "\n",
    "        wH_ = wH.copy(); wH_[i] = 0\n",
    "        c = 2 * (X[:,i] * (y - (bH + X @ wH_))).sum()\n",
    "\n",
    "        c = c if np.abs(c) > lam else 0\n",
    "        wH[i] = (c - np.sign(c)*lam)/a[i]\n",
    "\n",
    "    dwH = np.abs(wH - wH_old)\n",
    "\n",
    "print(f'most positive -- {df_train.columns[np.argmax(wH)]}')\n",
    "print(f'most negative -- {df_train.columns[np.argmax(-wH)]}')"
   ]
  },
  {
   "cell_type": "markdown",
   "metadata": {},
   "source": [
    "# A.6"
   ]
  },
  {
   "cell_type": "code",
   "execution_count": 1,
   "metadata": {},
   "outputs": [],
   "source": [
    "import numpy as np\n",
    "import matplotlib.pyplot as plt"
   ]
  },
  {
   "cell_type": "code",
   "execution_count": 86,
   "metadata": {},
   "outputs": [],
   "source": [
    "from mnist import MNIST\n",
    "\n",
    "def load_dataset():\n",
    "    mndata = MNIST('../../../python-mnist/data/')\n",
    "    X_train, labels_train = map(np.array, mndata.load_training())\n",
    "    X_test, labels_test = map(np.array, mndata.load_testing())\n",
    "    X_train = X_train/255.0\n",
    "    X_test = X_test/255.0\n",
    "    \n",
    "    return X_train, labels_train, X_test, labels_test\n",
    "\n",
    "X_train, Y_train, X_test, Y_test = load_dataset()"
   ]
  },
  {
   "cell_type": "code",
   "execution_count": 87,
   "metadata": {},
   "outputs": [],
   "source": [
    "# keep only 2's and 7's\n",
    "X_train = X_train[(Y_train == 2) | (Y_train == 7)]\n",
    "Y_train = Y_train[(Y_train == 2) | (Y_train == 7)].astype(np.int16)\n",
    "X_test = X_test[(Y_test == 2) | (Y_test == 7)]\n",
    "Y_test = Y_test[(Y_test == 2) | (Y_test == 7)].astype(np.int16)\n",
    "\n",
    "# set 7 -> 1, 2 -> -1\n",
    "Y_train[Y_train == 7] = 1\n",
    "Y_train[Y_train == 2] = -1\n",
    "Y_test[Y_test == 7] = 1\n",
    "Y_test[Y_test == 2] = -1"
   ]
  },
  {
   "cell_type": "code",
   "execution_count": 91,
   "metadata": {},
   "outputs": [
    {
     "data": {
      "text/plain": [
       "<matplotlib.image.AxesImage at 0x7fa977355450>"
      ]
     },
     "execution_count": 91,
     "metadata": {},
     "output_type": "execute_result"
    },
    {
     "data": {
      "image/png": "[encoded data removed]",
      "text/plain": [
       "<Figure size 432x288 with 1 Axes>"
      ]
     },
     "metadata": {
      "needs_background": "light"
     },
     "output_type": "display_data"
    }
   ],
   "source": [
    "plt.imshow(X_train[0].reshape(28,28))"
   ]
  },
  {
   "cell_type": "code",
   "execution_count": 154,
   "metadata": {},
   "outputs": [],
   "source": [
    "# NEED TO CHANGE THE LOSS FUNCTION TO SOMETHING ELSE!\n",
    "\n",
    "class MNIST_Classifier():\n",
    "    \n",
    "    def __init__(self):\n",
    "        self.w = None\n",
    "        self.b = None\n",
    "        self.lam = None\n",
    "        \n",
    "    def predict(self, X):\n",
    "        return np.sign(X @ self.w + self.b)\n",
    "        \n",
    "    def train(self, X, y, Xtest, ytest, lam=1e-1, step=0.1):\n",
    "        \n",
    "        n, d = X.shape\n",
    "        \n",
    "        self.w = np.zeros(d)\n",
    "        self.b = 0\n",
    "        self.lam = lam\n",
    "        \n",
    "        J_train = [self.J(X, y)]\n",
    "        J_test = [self.J(Xtest, ytest)]\n",
    "        err_train = [self.err(X, y)]\n",
    "        err_test = [self.err(Xtest, ytest)]\n",
    "        \n",
    "        for i in range(40):\n",
    "            \n",
    "            self.w -= step * self.grad_w(X, y)\n",
    "            self.b -= step * self.grad_b(X, y)\n",
    "            \n",
    "            J_train.append(self.J(X, y))\n",
    "            J_test.append(self.J(Xtest, ytest))\n",
    "            err_train.append(self.err(X, y))\n",
    "            err_test.append(self.err(Xtest, ytest))\n",
    "            \n",
    "        return J_train, J_test, err_train, err_test\n",
    "        \n",
    "    def mu(self, X, y):\n",
    "        return 1/(1 + np.exp(- y * (X @ self.w + self.b)))\n",
    "    \n",
    "    def grad_w(self, X, y):\n",
    "        return (y * X.T * (self.mu(X, y) - 1)).mean(axis=1) + 2 * self.lam * self.w\n",
    "    \n",
    "    def grad_b(self, X, y):\n",
    "        return (y * (self.mu(X, y) - 1)).mean()\n",
    "    \n",
    "    def J(self, X, y):\n",
    "        return np.log(1 + np.exp(- y * (X @ self.w + self.b))).mean() + self.lam * (self.w * self.w).sum()\n",
    "    \n",
    "    def err(self, X, y):\n",
    "        yhat = self.predict(X)\n",
    "        class_err = len(yhat[yhat != y])/len(yhat)\n",
    "        return class_err"
   ]
  },
  {
   "cell_type": "code",
   "execution_count": 216,
   "metadata": {},
   "outputs": [],
   "source": [
    "# NEED TO CHANGE THE LOSS FUNCTION TO SOMETHING ELSE!\n",
    "\n",
    "class MNIST_Classifier():\n",
    "    \n",
    "    def __init__(self):\n",
    "        self.w = None\n",
    "        self.b = None\n",
    "        self.lam = None\n",
    "        \n",
    "    def predict(self, X):\n",
    "        return np.sign(X @ self.w + self.b)\n",
    "        \n",
    "    def train(self, X, y, Xtest, ytest, lam=1e-1, step_size=0.1, steps=40, batch_size=None, seed=0):\n",
    "        \n",
    "        np.random.seed(seed) # random seed for SGD\n",
    "        \n",
    "        # initialize values\n",
    "        self.w = np.zeros(X.shape[1])\n",
    "        self.b = 0\n",
    "        self.lam = lam\n",
    "        \n",
    "        # values I want to save per step\n",
    "        J_train = [self.J(X, y)]\n",
    "        J_test = [self.J(Xtest, ytest)]\n",
    "        err_train = [self.err(X, y)]\n",
    "        err_test = [self.err(Xtest, ytest)]\n",
    "        \n",
    "        for i in range(steps):\n",
    "            \n",
    "            # if batch_size, select a random batch, else select all values\n",
    "            idx = np.random.choice(len(y), batch_size, replace=False) if batch_size else np.arange(len(y))\n",
    "            X_ = X[idx]\n",
    "            y_ = y[idx]\n",
    "            \n",
    "            # apply gradients\n",
    "            self.w -= step_size * self.grad_w(X_, y_)\n",
    "            self.b -= step_size * self.grad_b(X_, y_)\n",
    "            \n",
    "            # save values\n",
    "            J_train.append(self.J(X, y))\n",
    "            J_test.append(self.J(Xtest, ytest))\n",
    "            err_train.append(self.err(X, y))\n",
    "            err_test.append(self.err(Xtest, ytest))\n",
    "            \n",
    "        return J_train, J_test, err_train, err_test\n",
    "        \n",
    "    def mu(self, X, y):\n",
    "        return 1/(1 + np.exp(- y * (X @ self.w + self.b)))\n",
    "    \n",
    "    def grad_w(self, X, y):\n",
    "        return (y * X.T * (self.mu(X, y) - 1)).mean(axis=1) + 2 * self.lam * self.w\n",
    "    \n",
    "    def grad_b(self, X, y):\n",
    "        return (y * (self.mu(X, y) - 1)).mean()\n",
    "    \n",
    "    def J(self, X, y):\n",
    "        return np.log(1 + np.exp(- y * (X @ self.w + self.b))).mean() + self.lam * (self.w * self.w).sum()\n",
    "    \n",
    "    def err(self, X, y):\n",
    "        yhat = self.predict(X)\n",
    "        class_err = len(yhat[yhat != y])/len(yhat)\n",
    "        return class_err"
   ]
  },
  {
   "cell_type": "code",
   "execution_count": 217,
   "metadata": {},
   "outputs": [],
   "source": [
    "model = MNIST_Classifier()\n",
    "J_train, J_test, err_train, err_test = model.train(X_train, Y_train, X_test, Y_test, batch_size=1, steps=100)"
   ]
  },
  {
   "cell_type": "code",
   "execution_count": 221,
   "metadata": {},
   "outputs": [
    {
     "data": {
      "image/png": "[encoded data removed]",
      "text/plain": [
       "<Figure size 432x216 with 2 Axes>"
      ]
     },
     "metadata": {
      "needs_background": "light"
     },
     "output_type": "display_data"
    }
   ],
   "source": [
    "fig, (ax1,ax2) = plt.subplots(1,2, figsize=(6,3), constrained_layout=True)\n",
    "\n",
    "ax1.plot(np.arange(len(J_train)), J_train, label='Train')\n",
    "ax1.plot(np.arange(len(J_test)),  J_test,  label='Test')\n",
    "ax1.legend()\n",
    "ax1.set(xlabel='Steps', ylabel='$J(w,b)$')\n",
    "\n",
    "ax2.plot(np.arange(len(err_train)), err_train, label='Train')\n",
    "ax2.plot(np.arange(len(err_test)),  err_test,  label='Test')\n",
    "ax2.legend()\n",
    "ax2.set(xlabel='Steps', ylabel='Misclassification Err',\n",
    "        xlim=(-0.3,100))\n",
    "\n",
    "fig.savefig('A6c.pdf')"
   ]
  },
  {
   "cell_type": "code",
   "execution_count": null,
   "metadata": {},
   "outputs": [],
   "source": []
  },
  {
   "cell_type": "markdown",
   "metadata": {},
   "source": [
    "# B.4"
   ]
  },
  {
   "cell_type": "code",
   "execution_count": 138,
   "metadata": {},
   "outputs": [],
   "source": [
    "import torch\n",
    "from mnist import MNIST\n",
    "\n",
    "def load_dataset():\n",
    "    mndata = MNIST('../../../python-mnist/data/')\n",
    "    X_train, labels_train = map(np.array, mndata.load_training())\n",
    "    X_test, labels_test = map(np.array, mndata.load_testing())\n",
    "    X_train = X_train/255.0\n",
    "    X_test = X_test/255.0\n",
    "    \n",
    "    return X_train, labels_train, X_test, labels_test\n",
    "\n",
    "X_train, Y_train, X_test, Y_test = load_dataset()"
   ]
  },
  {
   "cell_type": "code",
   "execution_count": 139,
   "metadata": {},
   "outputs": [],
   "source": [
    "X_train = torch.Tensor(X_train)\n",
    "y_train = torch.Tensor(Y_train).long()\n",
    "X_test = torch.Tensor(X_test)\n",
    "y_test = torch.Tensor(Y_test).long()"
   ]
  },
  {
   "cell_type": "code",
   "execution_count": 140,
   "metadata": {},
   "outputs": [],
   "source": [
    "epochs = 1000\n",
    "step_size = 0.1\n",
    "W = torch.zeros(784, 10, requires_grad=True)\n",
    "ce_loss = []\n",
    "for epoch in range(epochs):\n",
    "    y_hat = torch.matmul(X_train, W)\n",
    "    # cross entropy combines softmax calculation with NLLLoss\n",
    "    loss = torch.nn.functional.cross_entropy(y_hat, y_train)\n",
    "    ce_loss.append(loss)\n",
    "    # computes derivatives of the loss with respect to W\n",
    "    loss.backward()\n",
    "    # gradient descent update\n",
    "    W.data = W.data - step_size * W.grad\n",
    "    # .backward() accumulates gradients into W.grad instead\n",
    "    # of overwriting, so we need to zero out the weights\n",
    "    W.grad.zero_()"
   ]
  },
  {
   "cell_type": "code",
   "execution_count": 141,
   "metadata": {},
   "outputs": [],
   "source": [
    "y_hat = torch.matmul(X_train, W).argmax(axis=1)\n",
    "softmax_acc_train = len(y_train[(y_hat == y_train)])/len(y_train)\n",
    "\n",
    "y_hat = torch.matmul(X_test, W).argmax(axis=1)\n",
    "softmax_acc_test = len(y_test[(y_hat == y_test)])/len(y_test)"
   ]
  },
  {
   "cell_type": "code",
   "execution_count": 142,
   "metadata": {},
   "outputs": [
    {
     "name": "stdout",
     "output_type": "stream",
     "text": [
      "softmax train acc -- 0.903\n",
      "softmax test acc -- 0.908\n"
     ]
    }
   ],
   "source": [
    "print(f'softmax train acc -- {softmax_acc_train:.3f}')\n",
    "print(f'softmax test acc -- {softmax_acc_test:.3f}')"
   ]
  },
  {
   "cell_type": "code",
   "execution_count": 143,
   "metadata": {},
   "outputs": [
    {
     "data": {
      "image/png": "[encoded data removed]",
      "text/plain": [
       "<Figure size 432x288 with 1 Axes>"
      ]
     },
     "metadata": {
      "needs_background": "light"
     },
     "output_type": "display_data"
    }
   ],
   "source": [
    "plt.plot(ce_loss)\n",
    "plt.xlabel('Epoch')\n",
    "plt.ylabel('$\\mathcal{L}(W)$')\n",
    "plt.savefig('B4_celoss.pdf')"
   ]
  },
  {
   "cell_type": "code",
   "execution_count": 144,
   "metadata": {},
   "outputs": [],
   "source": [
    "W = torch.zeros(784, 10, requires_grad=True)\n",
    "mse_loss = []\n",
    "step_size = 0.1\n",
    "epochs = 1000\n",
    "for epoch in range(epochs):\n",
    "    y_hat = torch.matmul(X_train, W)\n",
    "    # this time use MSE loss\n",
    "    loss = torch.nn.functional.mse_loss(y_hat, torch.nn.functional.one_hot(y_train).float())\n",
    "    mse_loss.append(loss)\n",
    "    # computes derivatives of the loss with respect to W\n",
    "    loss.backward()\n",
    "    # gradient descent update\n",
    "    W.data = W.data - step_size * W.grad\n",
    "    # .backward() accumulates gradients into W.grad instead\n",
    "    # of overwriting, so we need to zero out the weights\n",
    "    W.grad.zero_()"
   ]
  },
  {
   "cell_type": "code",
   "execution_count": 145,
   "metadata": {},
   "outputs": [],
   "source": [
    "y_hat = torch.matmul(X_train, W).argmax(axis=1)\n",
    "mse_acc_train = len(y_train[(y_hat == y_train)])/len(y_train)\n",
    "\n",
    "y_hat = torch.matmul(X_test, W).argmax(axis=1)\n",
    "mse_acc_test = len(y_test[(y_hat == y_test)])/len(y_test)"
   ]
  },
  {
   "cell_type": "code",
   "execution_count": 146,
   "metadata": {},
   "outputs": [
    {
     "name": "stdout",
     "output_type": "stream",
     "text": [
      "mse train acc -- 0.851\n",
      "mse test acc -- 0.856\n"
     ]
    }
   ],
   "source": [
    "print(f'mse train acc -- {mse_acc_train:.3f}')\n",
    "print(f'mse test acc -- {mse_acc_test:.3f}')"
   ]
  },
  {
   "cell_type": "code",
   "execution_count": 147,
   "metadata": {},
   "outputs": [
    {
     "data": {
      "image/png": "[encoded data removed]",
      "text/plain": [
       "<Figure size 432x288 with 1 Axes>"
      ]
     },
     "metadata": {
      "needs_background": "light"
     },
     "output_type": "display_data"
    }
   ],
   "source": [
    "plt.plot(mse_loss)\n",
    "plt.xlabel('Epoch')\n",
    "plt.ylabel('$J(W)$')\n",
    "plt.savefig('B4_mseloss.pdf')"
   ]
  },
  {
   "cell_type": "markdown",
   "metadata": {},
   "source": [
    "## B5.c"
   ]
  },
  {
   "cell_type": "code",
   "execution_count": 1,
   "metadata": {},
   "outputs": [],
   "source": [
    "import numpy as np\n",
    "import matplotlib.pyplot as plt"
   ]
  },
  {
   "cell_type": "code",
   "execution_count": 2,
   "metadata": {},
   "outputs": [],
   "source": [
    "n = 4\n",
    "d = 2\n",
    "\n",
    "X = []\n",
    "for i in range(0,n):\n",
    "    j = i % d\n",
    "    x = np.zeros(d)\n",
    "    x[j] = np.sqrt(j + 2)\n",
    "    X.append(x)\n",
    "X = np.array(X)"
   ]
  },
  {
   "cell_type": "code",
   "execution_count": 3,
   "metadata": {},
   "outputs": [
    {
     "data": {
      "text/plain": [
       "array([[1.41421356, 0.        ],\n",
       "       [0.        , 1.73205081],\n",
       "       [1.41421356, 0.        ],\n",
       "       [0.        , 1.73205081]])"
      ]
     },
     "execution_count": 3,
     "metadata": {},
     "output_type": "execute_result"
    }
   ],
   "source": [
    "X"
   ]
  },
  {
   "cell_type": "code",
   "execution_count": 6,
   "metadata": {},
   "outputs": [
    {
     "data": {
      "text/plain": [
       "array([[4., 0.],\n",
       "       [0., 6.]])"
      ]
     },
     "execution_count": 6,
     "metadata": {},
     "output_type": "execute_result"
    }
   ],
   "source": [
    "X.T @ X"
   ]
  },
  {
   "cell_type": "code",
   "execution_count": 9,
   "metadata": {},
   "outputs": [
    {
     "data": {
      "text/plain": [
       "array([[0.35355339, 0.        , 0.35355339, 0.        ],\n",
       "       [0.        , 0.28867513, 0.        , 0.28867513]])"
      ]
     },
     "execution_count": 9,
     "metadata": {},
     "output_type": "execute_result"
    }
   ],
   "source": [
    "np.array([[1/4,0],[0,1/6]]) @ X.T"
   ]
  },
  {
   "cell_type": "code",
   "execution_count": 275,
   "metadata": {},
   "outputs": [
    {
     "data": {
      "text/plain": [
       "array([[ 4.,  0.,  0.,  0.,  0.,  0.,  0.,  0.,  0.,  0.,  0.,  0.],\n",
       "       [ 0.,  6.,  0.,  0.,  0.,  0.,  0.,  0.,  0.,  0.,  0.,  0.],\n",
       "       [ 0.,  0.,  8.,  0.,  0.,  0.,  0.,  0.,  0.,  0.,  0.,  0.],\n",
       "       [ 0.,  0.,  0., 10.,  0.,  0.,  0.,  0.,  0.,  0.,  0.,  0.],\n",
       "       [ 0.,  0.,  0.,  0., 12.,  0.,  0.,  0.,  0.,  0.,  0.,  0.],\n",
       "       [ 0.,  0.,  0.,  0.,  0., 14.,  0.,  0.,  0.,  0.,  0.,  0.],\n",
       "       [ 0.,  0.,  0.,  0.,  0.,  0., 16.,  0.,  0.,  0.,  0.,  0.],\n",
       "       [ 0.,  0.,  0.,  0.,  0.,  0.,  0., 18.,  0.,  0.,  0.,  0.],\n",
       "       [ 0.,  0.,  0.,  0.,  0.,  0.,  0.,  0., 20.,  0.,  0.,  0.],\n",
       "       [ 0.,  0.,  0.,  0.,  0.,  0.,  0.,  0.,  0., 22.,  0.,  0.],\n",
       "       [ 0.,  0.,  0.,  0.,  0.,  0.,  0.,  0.,  0.,  0., 24.,  0.],\n",
       "       [ 0.,  0.,  0.,  0.,  0.,  0.,  0.,  0.,  0.,  0.,  0., 26.]])"
      ]
     },
     "execution_count": 275,
     "metadata": {},
     "output_type": "execute_result"
    }
   ],
   "source": [
    "np.diag([(j+1)*n/d for j in range(1,d+1)])"
   ]
  },
  {
   "cell_type": "code",
   "execution_count": 271,
   "metadata": {},
   "outputs": [
    {
     "data": {
      "text/plain": [
       "array([[14,  0,  0,  0,  0,  0,  0,  0,  0,  0,  0,  0],\n",
       "       [ 0, 21,  0,  0,  0,  0,  0,  0,  0,  0,  0,  0],\n",
       "       [ 0,  0, 24,  0,  0,  0,  0,  0,  0,  0,  0,  0],\n",
       "       [ 0,  0,  0, 30,  0,  0,  0,  0,  0,  0,  0,  0],\n",
       "       [ 0,  0,  0,  0, 36,  0,  0,  0,  0,  0,  0,  0],\n",
       "       [ 0,  0,  0,  0,  0, 42,  0,  0,  0,  0,  0,  0],\n",
       "       [ 0,  0,  0,  0,  0,  0, 48,  0,  0,  0,  0,  0],\n",
       "       [ 0,  0,  0,  0,  0,  0,  0, 54,  0,  0,  0,  0],\n",
       "       [ 0,  0,  0,  0,  0,  0,  0,  0, 60,  0,  0,  0],\n",
       "       [ 0,  0,  0,  0,  0,  0,  0,  0,  0, 66,  0,  0],\n",
       "       [ 0,  0,  0,  0,  0,  0,  0,  0,  0,  0, 72,  0],\n",
       "       [ 0,  0,  0,  0,  0,  0,  0,  0,  0,  0,  0, 78]])"
      ]
     },
     "execution_count": 271,
     "metadata": {},
     "output_type": "execute_result"
    }
   ],
   "source": [
    "a = np.array([(j+1)*(n//d) for j in range(1,d+1)])\n",
    "b = np.array([(j+1) for j in range(1,d+1)])\n",
    "b[n%d:] = 0\n",
    "np.diag(a+b)"
   ]
  },
  {
   "cell_type": "code",
   "execution_count": 119,
   "metadata": {},
   "outputs": [],
   "source": [
    "np.random.seed(0)\n",
    "Y = np.random.normal(0, 1, n)"
   ]
  },
  {
   "cell_type": "code",
   "execution_count": 46,
   "metadata": {},
   "outputs": [],
   "source": [
    "beta = np.diag(0.5/np.arange(1,d+1)) @ X.T @ Y"
   ]
  },
  {
   "cell_type": "code",
   "execution_count": 64,
   "metadata": {},
   "outputs": [
    {
     "name": "stdout",
     "output_type": "stream",
     "text": [
      "0.2\n"
     ]
    }
   ],
   "source": [
    "lim = np.sqrt(1/np.arange(1,d+1)*np.log(2/0.95))\n",
    "nabove = len(beta[np.abs(beta) > lim])\n",
    "print(nabove/d)"
   ]
  },
  {
   "cell_type": "code",
   "execution_count": 65,
   "metadata": {},
   "outputs": [
    {
     "data": {
      "text/plain": [
       "[<matplotlib.lines.Line2D at 0x7f4984d58490>]"
      ]
     },
     "execution_count": 65,
     "metadata": {},
     "output_type": "execute_result"
    },
    {
     "data": {
      "image/png": "[encoded data removed]",
      "text/plain": [
       "<Figure size 432x288 with 1 Axes>"
      ]
     },
     "metadata": {
      "needs_background": "light"
     },
     "output_type": "display_data"
    }
   ],
   "source": [
    "plt.scatter(np.arange(1, d+1), beta, s=1)\n",
    "plt.plot(np.arange(1, d+1),  lim, c='C3')\n",
    "plt.plot(np.arange(1, d+1), -lim, c='C3')"
   ]
  },
  {
   "cell_type": "code",
   "execution_count": 2,
   "metadata": {},
   "outputs": [],
   "source": [
    "n = 20000\n",
    "d = 10000\n",
    "\n",
    "X = []\n",
    "for i in range(0,n):\n",
    "    j = i % d\n",
    "    x = np.zeros(d)\n",
    "    x[j] = np.sqrt(j + 2)\n",
    "    X.append(x)\n",
    "X = np.array(X)\n",
    "\n",
    "np.random.seed(0)\n",
    "Y = np.random.normal(0, 1, n)\n",
    "\n",
    "XTY = X.T @ Y\n",
    "\n",
    "beta = d/(n*(1 + np.arange(1,d+1))) * XTY\n",
    "gamma = np.sqrt(2 * d/(n*(1 + np.arange(1,d+1))) * np.log(2/0.95))\n",
    "\n",
    "nabove = len(beta[np.abs(beta) > gamma])\n",
    "print(nabove/d)"
   ]
  },
  {
   "cell_type": "code",
   "execution_count": 3,
   "metadata": {},
   "outputs": [],
   "source": [
    "beta = d/(n*(1 + np.arange(1,d+1))) * XTY\n",
    "gamma = np.sqrt(2 * d/(n*(1 + np.arange(1,d+1))) * np.log(2/0.95))"
   ]
  },
  {
   "cell_type": "code",
   "execution_count": 13,
   "metadata": {},
   "outputs": [
    {
     "data": {
      "image/png": "[encoded data removed]",
      "text/plain": [
       "<Figure size 288x288 with 1 Axes>"
      ]
     },
     "metadata": {
      "needs_background": "light"
     },
     "output_type": "display_data"
    }
   ],
   "source": [
    "fig,ax = plt.subplots(figsize=(4,4), constrained_layout=True)\n",
    "\n",
    "ax.scatter(np.arange(1,d+1), beta, s=1)\n",
    "ax.plot(np.arange(1,d+1), -gamma, c='C3')\n",
    "ax.plot(np.arange(1,d+1),  gamma, c='C3')\n",
    "ax.set(ylim=(-0.3,0.3),\n",
    "       xlabel='Elements of beta',\n",
    "       ylabel='Weight')\n",
    "fig.savefig('B5d.pdf')"
   ]
  },
  {
   "cell_type": "code",
   "execution_count": 12,
   "metadata": {},
   "outputs": [
    {
     "name": "stdout",
     "output_type": "stream",
     "text": [
      "0.2153\n"
     ]
    }
   ],
   "source": [
    "nabove = len(beta[np.abs(beta) > gamma])\n",
    "print(nabove/d)"
   ]
  },
  {
   "cell_type": "code",
   "execution_count": 36,
   "metadata": {},
   "outputs": [
    {
     "data": {
      "text/plain": [
       "(2000,)"
      ]
     },
     "execution_count": 36,
     "metadata": {},
     "output_type": "execute_result"
    }
   ],
   "source": [
    "Y.shape"
   ]
  },
  {
   "cell_type": "code",
   "execution_count": 13,
   "metadata": {},
   "outputs": [
    {
     "data": {
      "text/plain": [
       "array([   2.20891011,   -0.75010581,    5.42467646, ...,   45.9589945 ,\n",
       "       -109.18519547,   97.16315676])"
      ]
     },
     "execution_count": 13,
     "metadata": {},
     "output_type": "execute_result"
    }
   ],
   "source": [
    "XTY"
   ]
  },
  {
   "cell_type": "code",
   "execution_count": null,
   "metadata": {},
   "outputs": [],
   "source": []
  }
 ],
 "metadata": {
  "kernelspec": {
   "display_name": "Python 3",
   "language": "python",
   "name": "python3"
  },
  "language_info": {
   "codemirror_mode": {
    "name": "ipython",
    "version": 3
   },
   "file_extension": ".py",
   "mimetype": "text/x-python",
   "name": "python",
   "nbconvert_exporter": "python",
   "pygments_lexer": "ipython3",
   "version": "3.7.6"
  }
 },
 "nbformat": 4,
 "nbformat_minor": 4
}
